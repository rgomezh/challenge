{
 "cells": [
  {
   "cell_type": "markdown",
   "metadata": {},
   "source": [
    "# Exercice 5 \n",
    "> Wrap the output of the second exercise in a web service that returns the data in JSON format \n"
   ]
  },
  {
   "cell_type": "code",
   "execution_count": 50,
   "metadata": {},
   "outputs": [],
   "source": [
    "import pandas as pd\n",
    "from flask import Flask\n",
    "import os.path\n",
    "\n",
    "bookings = \"./challenge/bookings.csv.bz2\"\n",
    "db_tops = \"./DBTops.csv\""
   ]
  },
  {
   "cell_type": "code",
   "execution_count": 51,
   "metadata": {},
   "outputs": [],
   "source": [
    "def create_DBTops():\n",
    "    print(\"Creating Tops DB\")\n",
    "    sum_df = pd.DataFrame()\n",
    "\n",
    "    for chunk in pd.read_csv(bookings,sep='^', usecols=['arr_port','pax','year' ],chunksize = 100000):  \n",
    "        chunk=chunk[chunk['year']==2013]\n",
    "        chunk=chunk[['arr_port','pax']]\n",
    "        chunk['arr_port']=chunk['arr_port'].str.strip().str.upper()            \n",
    "        df_aux=chunk.groupby('arr_port').sum()\n",
    "        sum_df=sum_df.append(df_aux)\n",
    "\n",
    "    top_airports=sum_df.groupby('arr_port').sum() \\\n",
    "                        .sort_values(by='pax',ascending=False) \\\n",
    "                        .applymap(lambda number: '%d' % number)\n",
    "    \n",
    "    top_airports.to_csv(db_tops, index=True, index_label='Arrival airport', sep = '^')\n",
    "\n",
    "def getTopN(top_n):\n",
    "    top_airports = pd.read_csv(db_tops,sep='^', nrows = top_n)\n",
    "    return top_airports.head(top_n).to_json()  \n",
    "\n"
   ]
  },
  {
   "cell_type": "code",
   "execution_count": 52,
   "metadata": {},
   "outputs": [
    {
     "name": "stdout",
     "output_type": "stream",
     "text": [
      "Empezamos teniendo BD Tops creada\n",
      " * Serving Flask app \"__main__\" (lazy loading)\n",
      " * Environment: production\n",
      "\u001b[31m   WARNING: This is a development server. Do not use it in a production deployment.\u001b[0m\n",
      "\u001b[2m   Use a production WSGI server instead.\u001b[0m\n",
      " * Debug mode: off\n"
     ]
    },
    {
     "name": "stderr",
     "output_type": "stream",
     "text": [
      " * Running on http://127.0.0.1:5000/ (Press CTRL+C to quit)\n",
      "127.0.0.1 - - [03/Feb/2021 09:38:28] \"\u001b[37mGET /top/5 HTTP/1.1\u001b[0m\" 200 -\n",
      "127.0.0.1 - - [03/Feb/2021 09:38:33] \"\u001b[37mGET /top/10 HTTP/1.1\u001b[0m\" 200 -\n",
      "127.0.0.1 - - [03/Feb/2021 09:38:38] \"\u001b[37mGET /top/5 HTTP/1.1\u001b[0m\" 200 -\n",
      "127.0.0.1 - - [03/Feb/2021 09:38:43] \"\u001b[37mGET /top/10 HTTP/1.1\u001b[0m\" 200 -\n"
     ]
    }
   ],
   "source": [
    "app = Flask(__name__)\n",
    "\n",
    "@app.route('/top/<int:top_n>', methods=['GET'])\n",
    "def search_name(top_n):\n",
    "    top_airports = getTopN(top_n)\n",
    "    return top_airports\n",
    "\n",
    "if __name__ == '__main__':\n",
    "    if (not os.path.isfile(db_tops)):\n",
    "        create_DBTops()\n",
    "    else: \n",
    "        print ('Empezamos teniendo BD Tops creada')\n",
    "    app.run(debug=False, port=5000)"
   ]
  },
  {
   "cell_type": "code",
   "execution_count": null,
   "metadata": {},
   "outputs": [],
   "source": []
  }
 ],
 "metadata": {
  "kernelspec": {
   "display_name": "Python 3",
   "language": "python",
   "name": "python3"
  },
  "language_info": {
   "codemirror_mode": {
    "name": "ipython",
    "version": 3
   },
   "file_extension": ".py",
   "mimetype": "text/x-python",
   "name": "python",
   "nbconvert_exporter": "python",
   "pygments_lexer": "ipython3",
   "version": "3.8.5"
  }
 },
 "nbformat": 4,
 "nbformat_minor": 4
}
